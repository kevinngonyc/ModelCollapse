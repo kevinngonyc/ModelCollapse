{
 "cells": [
  {
   "cell_type": "code",
   "execution_count": 1,
   "id": "3e4f7169-cd83-4719-81dd-1f0a6da2639e",
   "metadata": {},
   "outputs": [
    {
     "name": "stdout",
     "output_type": "stream",
     "text": [
      "/gpfs/data/oermannlab/users/ngok02/ModelCollapse/vae\n"
     ]
    }
   ],
   "source": [
    "import os\n",
    "_, current_folder_name = os.path.split(os.getcwd())\n",
    "if current_folder_name == \"notebooks\":\n",
    "    os.chdir(\"..\")  \n",
    "print(os.getcwd())  "
   ]
  },
  {
   "cell_type": "code",
   "execution_count": 2,
   "id": "3856d7a6-26d8-433c-adcf-f3a0fd452d99",
   "metadata": {},
   "outputs": [],
   "source": [
    "import torch\n",
    "from torch import nn\n",
    "import torch.nn.functional as F\n",
    "from torchvision import datasets\n",
    "import matplotlib.pyplot as plt\n",
    "from torch.utils.data import DataLoader\n",
    "from torchvision.transforms import ToTensor\n",
    "from torchvision.utils import make_grid"
   ]
  },
  {
   "cell_type": "code",
   "execution_count": 3,
   "id": "e3ba440d-13a9-4c2d-9e58-d5dba2758a23",
   "metadata": {},
   "outputs": [],
   "source": [
    "latent_dims = 20\n",
    "lstm_dims = 128\n",
    "K_vecs = 512\n",
    "num_epochs = 30\n",
    "batch_size = 256\n",
    "collapse_size = 2560\n",
    "patch_size = 4\n",
    "emb_size = 32\n",
    "height = width = 28\n",
    "capacity = 64\n",
    "learning_rate = 1e-3\n",
    "variational_beta = 1\n",
    "alpha = 0.1\n",
    "gamma=15\n",
    "beta=0.25\n",
    "nl_stdev = 1\n",
    "ng_stdev = 100\n",
    "generations = 20"
   ]
  },
  {
   "cell_type": "code",
   "execution_count": 4,
   "id": "af97be99-7fe0-42f7-a59c-815708b33ea1",
   "metadata": {},
   "outputs": [],
   "source": [
    "train_dataset = datasets.MNIST(root='../data', train = True, download = True, transform = ToTensor())\n",
    "train_dataloader = DataLoader(train_dataset, batch_size=batch_size, shuffle=True)\n",
    "test_dataset = datasets.MNIST(root='../data', train = False, download = True, transform = ToTensor())\n",
    "test_dataloader = DataLoader(test_dataset, batch_size=batch_size, shuffle=True)"
   ]
  },
  {
   "cell_type": "code",
   "execution_count": 5,
   "id": "aafafc78-46fd-40e3-b4a3-f614ea6791e9",
   "metadata": {},
   "outputs": [],
   "source": [
    "# device = 'cpu'\n",
    "device = (\n",
    "    \"cuda\"\n",
    "    if torch.cuda.is_available()\n",
    "    else \"mps\"\n",
    "    if torch.backends.mps.is_available()\n",
    "    else \"cpu\"\n",
    ")"
   ]
  },
  {
   "cell_type": "code",
   "execution_count": 38,
   "id": "49935239-c5e9-4a3f-9c7a-7224cf1b978c",
   "metadata": {},
   "outputs": [],
   "source": [
    "class LSTM(nn.Module):\n",
    "    def __init__(self):\n",
    "        super(LSTM, self).__init__()\n",
    "        self.lstm = nn.LSTM(input_size=1, hidden_size=lstm_dims, num_layers=2, batch_first=True)\n",
    "        self.fc1 = nn.Linear(lstm_dims, lstm_dims // 4)\n",
    "        self.fc2 = nn.Linear(lstm_dims // 4, 1)\n",
    "\n",
    "    def forward(self, x, sos=None):\n",
    "        logits, _ = self.lstm(x)\n",
    "        logits = F.relu(self.fc1(logits))\n",
    "        logits = self.fc2(logits)\n",
    "        out = F.sigmoid(logits)\n",
    "        return out"
   ]
  },
  {
   "cell_type": "code",
   "execution_count": 55,
   "id": "5a8dfc75-72b8-4999-ba26-7384dc687a15",
   "metadata": {},
   "outputs": [],
   "source": [
    "def train_lstm(lstm, train_dataloader, debug=False):\n",
    "    lstm = lstm.to(device)\n",
    "\n",
    "    if debug:\n",
    "        num_params = sum(p.numel() for p in lstm.parameters() if p.requires_grad)\n",
    "        print('Number of parameters: %d' % num_params)\n",
    "\n",
    "    optimizer = torch.optim.Adam(params=lstm.parameters(), lr=learning_rate, weight_decay=1e-5)\n",
    "\n",
    "    lstm.train()\n",
    "\n",
    "    train_loss_avg = []\n",
    "\n",
    "    if debug:\n",
    "        print('Training ...')\n",
    "    for epoch in range(num_epochs):\n",
    "        train_loss_avg.append(0)\n",
    "        num_batches = 0\n",
    "        \n",
    "        for image_batch, _ in train_dataloader:\n",
    "\n",
    "            image_batch = image_batch.to(device)\n",
    "            batch_sz = image_batch.shape[0]\n",
    "\n",
    "            # # reconstruction error\n",
    "            # loss = F.cross_entropy(logits, encoding_indices_eos)\n",
    "            sequence = torch.cat((-1 * torch.ones(batch_sz, 1).to(device), image_batch.view(batch_sz, -1)), dim=-1)\n",
    "            input_sequence = sequence[:,:-1].unsqueeze(-1)\n",
    "            targets = sequence[:,1:].unsqueeze(-1)\n",
    "\n",
    "            preds = lstm(input_sequence)\n",
    "\n",
    "            loss = F.binary_cross_entropy(preds, targets)\n",
    "\n",
    "            # backpropagation\n",
    "            optimizer.zero_grad()\n",
    "            loss.backward()\n",
    "\n",
    "            # one step of the optmizer (using the gradients from backpropagation)\n",
    "            optimizer.step()\n",
    "\n",
    "            train_loss_avg[-1] += loss.item()\n",
    "            num_batches += 1\n",
    "\n",
    "        train_loss_avg[-1] /= num_batches\n",
    "        if debug:\n",
    "            print('Epoch [%d / %d] average reconstruction error: %f' % (epoch+1, num_epochs, train_loss_avg[-1]))"
   ]
  },
  {
   "cell_type": "code",
   "execution_count": 56,
   "id": "7f889853-7795-4a22-8949-90771c34c860",
   "metadata": {},
   "outputs": [],
   "source": [
    "lstm = LSTM()"
   ]
  },
  {
   "cell_type": "code",
   "execution_count": null,
   "id": "942b6e83-4abd-4fda-b83a-fc79fe5a9875",
   "metadata": {},
   "outputs": [
    {
     "name": "stdout",
     "output_type": "stream",
     "text": [
      "Number of parameters: 203329\n",
      "Training ...\n",
      "Epoch [1 / 30] average reconstruction error: 0.341608\n",
      "Epoch [2 / 30] average reconstruction error: 0.125410\n",
      "Epoch [3 / 30] average reconstruction error: 0.105145\n",
      "Epoch [4 / 30] average reconstruction error: 0.096852\n",
      "Epoch [5 / 30] average reconstruction error: 0.093626\n",
      "Epoch [6 / 30] average reconstruction error: 0.096669\n",
      "Epoch [7 / 30] average reconstruction error: 0.089490\n",
      "Epoch [8 / 30] average reconstruction error: 0.087442\n",
      "Epoch [9 / 30] average reconstruction error: 0.086002\n",
      "Epoch [10 / 30] average reconstruction error: 0.085046\n",
      "Epoch [11 / 30] average reconstruction error: 0.084276\n",
      "Epoch [12 / 30] average reconstruction error: 0.083805\n",
      "Epoch [13 / 30] average reconstruction error: 0.083255\n",
      "Epoch [14 / 30] average reconstruction error: 0.082649\n",
      "Epoch [15 / 30] average reconstruction error: 0.082599\n",
      "Epoch [16 / 30] average reconstruction error: 0.082010\n"
     ]
    }
   ],
   "source": [
    "train_lstm(lstm, train_dataloader, debug=True)"
   ]
  },
  {
   "cell_type": "code",
   "execution_count": null,
   "id": "5f758e5a-f47f-4f92-a7cc-1db2823b2111",
   "metadata": {},
   "outputs": [],
   "source": [
    "pixels = -1 * torch.ones((1,1)).to(device)\n",
    "for i in range(784):\n",
    "    outputs = lstm(pixels)\n",
    "    pixels = torch.cat((pixels, outputs[-1].unsqueeze(0)))\n",
    "pixels = pixels[1:].view(28,28).unsqueeze(0)"
   ]
  },
  {
   "cell_type": "code",
   "execution_count": 50,
   "id": "00bcc55a-1cb9-476a-863f-9cd29b06e3f9",
   "metadata": {},
   "outputs": [],
   "source": [
    "import matplotlib.pyplot as plt\n",
    "from torchvision.utils import make_grid\n",
    "import numpy as np\n",
    "\n",
    "def to_img(x):\n",
    "    x = x.clamp(0, 1)\n",
    "    return x\n",
    "\n",
    "def show_image(img):\n",
    "    img = to_img(img)\n",
    "    npimg = img.numpy()\n",
    "    plt.imshow(np.transpose(npimg, (1, 2, 0)))"
   ]
  },
  {
   "cell_type": "code",
   "execution_count": 51,
   "id": "408d98c0-ffcf-40de-96b4-b147b2d03af9",
   "metadata": {},
   "outputs": [
    {
     "data": {
      "image/png": "[encoded data removed]",
      "text/plain": [
       "<Figure size 640x480 with 1 Axes>"
      ]
     },
     "metadata": {},
     "output_type": "display_data"
    }
   ],
   "source": [
    "show_image(pixels.detach().cpu())"
   ]
  },
  {
   "cell_type": "code",
   "execution_count": null,
   "id": "d9703335-51f5-4ade-b5ed-9362c9c083de",
   "metadata": {},
   "outputs": [],
   "source": []
  }
 ],
 "metadata": {
  "kernelspec": {
   "display_name": "Python 3 (ipykernel)",
   "language": "python",
   "name": "python3"
  },
  "language_info": {
   "codemirror_mode": {
    "name": "ipython",
    "version": 3
   },
   "file_extension": ".py",
   "mimetype": "text/x-python",
   "name": "python",
   "nbconvert_exporter": "python",
   "pygments_lexer": "ipython3",
   "version": "3.10.16"
  }
 },
 "nbformat": 4,
 "nbformat_minor": 5
}
